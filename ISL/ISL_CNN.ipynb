{
 "cells": [
  {
   "cell_type": "code",
   "execution_count": null,
   "metadata": {},
   "outputs": [],
   "source": [
    "import cv2\n",
    "import numpy as np\n",
    "import matplotlib.pyplot as plt\n",
    "import tensorflow as tf\n",
    "import os"
   ]
  },
  {
   "cell_type": "code",
   "execution_count": null,
   "metadata": {},
   "outputs": [],
   "source": [
    "#only required to preprocess once\n",
    "ini_path=\"train_dataset\"\n",
    "for (dirpath,dirnames,filenames) in os.walk(ini_path):\n",
    "    for dirname in dirnames:\n",
    "            for(direcpath,direcnames,files) in os.walk(ini_path+\"\\\\\"+dirname):\n",
    "                i=0\n",
    "                for file in files:\n",
    "                        \n",
    "                    actual_path=ini_path+\"\\\\\\\\\"+dirname+\"\\\\\\\\\"+file\n",
    "        \n",
    "                    frame = cv2.imread(actual_path)\n",
    "                    frame = cv2.resize(frame,(64,64))\n",
    "                    \n",
    "                    converted = cv2.cvtColor(frame, cv2.COLOR_BGR2HSV) # Convert from RGB to HSV\n",
    "\n",
    "                    lowerBoundary = np.array([0,40,30],dtype=\"uint8\")\n",
    "                    upperBoundary = np.array([43,255,254],dtype=\"uint8\")\n",
    "\n",
    "                    skinMask = cv2.inRange(converted, lowerBoundary, upperBoundary)\n",
    "\n",
    "                    skinMask = cv2.medianBlur(skinMask, 5)\n",
    "                    skin = cv2.bitwise_and(frame, frame, mask = skinMask)\n",
    "                    \n",
    "                    bw_image = cv2.cvtColor(skin, cv2.COLOR_HSV2BGR)  \n",
    "                    bw_image = cv2.cvtColor(skin, cv2.COLOR_BGR2GRAY)  \n",
    "                    bw_image = cv2.GaussianBlur(bw_image,(5,5),0)  \n",
    "                    \n",
    "                    if(i%5==0):\n",
    "                        directory=\"test_processed\"\n",
    "                    else:\n",
    "                        directory=\"train_processed\"\n",
    "                    \n",
    "                    path = directory+\"\\\\\\\\\"+dirname+\"\\\\\\\\\"\n",
    "                    curr_path=path+file\n",
    "                    cv2.imwrite(curr_path, bw_image)\n",
    "                    i=i+1"
   ]
  },
  {
   "cell_type": "code",
   "execution_count": null,
   "metadata": {},
   "outputs": [],
   "source": [
    "from keras import models\n",
    "from keras import layers\n",
    "from keras import optimizers\n",
    "from keras.preprocessing.image import ImageDataGenerator"
   ]
  },
  {
   "cell_type": "code",
   "execution_count": null,
   "metadata": {},
   "outputs": [],
   "source": [
    "Imagesize=64\n",
    "model = models.Sequential()\n",
    "model.add(layers.Conv2D(32, (3, 3), activation='relu', input_shape=(Imagesize,Imagesize,3)))\n",
    "model.add(layers.MaxPooling2D((2, 2)))\n",
    "model.add(layers.Conv2D(64, (3, 3), activation='relu'))\n",
    "model.add(layers.MaxPooling2D(2, 2))\n",
    "model.add(layers.Conv2D(128, (3, 3), activation='relu'))\n",
    "model.add(layers.MaxPooling2D(2, 2))\n",
    "model.add(layers.Conv2D(256, (3, 3), activation='relu'))\n",
    "model.add(layers.MaxPooling2D(2, 2))\n",
    "model.add(layers.Flatten())\n",
    "model.add(layers.Dropout(0.25))\n",
    "model.add(layers.Dense(512, activation='relu'))\n",
    "model.add(layers.Dense(25, activation='softmax'))"
   ]
  },
  {
   "cell_type": "code",
   "execution_count": null,
   "metadata": {},
   "outputs": [],
   "source": [
    "model.compile(loss='categorical_crossentropy', optimizer='adam', metrics=['accuracy'])\n",
    "reduce_lr = ReduceLROnPlateau(monitor='val_loss', factor=0.2, patience=1, min_lr=0.0001)\n",
    "early_stop = EarlyStopping(monitor='val_loss', min_delta=0, patience=2, verbose=0, mode='auto')"
   ]
  },
  {
   "cell_type": "code",
   "execution_count": null,
   "metadata": {},
   "outputs": [],
   "source": [
    "model.summary()"
   ]
  },
  {
   "cell_type": "code",
   "execution_count": null,
   "metadata": {
    "scrolled": true
   },
   "outputs": [],
   "source": [
    "data_train = ImageDataGenerator(rescale=1.0/255.0,rotation_range=40,width_shift_range=0.2,height_shift_range=0.2,\n",
    "                                shear_range=0.2,zoom_range=0.2,horizontal_flip=True)\n",
    "data_valid = ImageDataGenerator(rescale=1.0/255.0)"
   ]
  },
  {
   "cell_type": "code",
   "execution_count": null,
   "metadata": {},
   "outputs": [],
   "source": [
    "batch = 96"
   ]
  },
  {
   "cell_type": "code",
   "execution_count": null,
   "metadata": {
    "scrolled": true
   },
   "outputs": [],
   "source": [
    "train_gen = data_train.flow_from_directory('train_processed',target_size=(Imagesize,Imagesize),batch_size=batch, \n",
    "                                           class_mode='categorical')\n",
    "\n",
    "test_gen = data_valid.flow_from_directory('test_processed', target_size=(Imagesize,Imagesize), batch_size=batch, \n",
    "                                           class_mode='categorical')"
   ]
  },
  {
   "cell_type": "code",
   "execution_count": null,
   "metadata": {
    "scrolled": true
   },
   "outputs": [],
   "source": [
    "model.fit_generator(train_gen, epochs=3, steps_per_epoch=50, validation_data = test_gen, \n",
    "                    validation_steps=4, callbacks=[reduce_lr, early_stop])"
   ]
  },
  {
   "cell_type": "code",
   "execution_count": null,
   "metadata": {},
   "outputs": [],
   "source": [
    "model.save('islcnnmodel11.h5')"
   ]
  },
  {
   "cell_type": "code",
   "execution_count": null,
   "metadata": {},
   "outputs": [],
   "source": [
    "imgs,labels=next(test_gen)\n",
    "scores = model.evaluate(imgs,labels,verbose=0)\n",
    "print(\"Accuracy: \",scores[1])"
   ]
  },
  {
   "cell_type": "code",
   "execution_count": null,
   "metadata": {
    "scrolled": true
   },
   "outputs": [],
   "source": [
    "Y_pred = model.predict_generator(test_gen,len(test_gen.filenames)//batch+1)\n",
    "y_pred = np.argmax(Y_pred, axis=1)\n",
    "import seaborn as sns\n",
    "from sklearn.metrics import confusion_matrix\n",
    "cm = confusion_matrix(test_gen.classes, y_pred)\n",
    "sns.set(font_scale=1)\n",
    "plt.figure(figsize = (12,8))\n",
    "sns.heatmap(cm, annot=True,fmt='g',cmap='PuBu')"
   ]
  },
  {
   "cell_type": "code",
   "execution_count": null,
   "metadata": {},
   "outputs": [],
   "source": [
    "def prepare(filepath):\n",
    "    img_array = cv2.imread(filepath)\n",
    "    return img_array.reshape(1, Imagesize, Imagesize, 3)\n",
    "\n",
    "for i in range(25):\n",
    "    if(i>=9):\n",
    "        prediction = model.predict_classes([prepare(\"test_processed\\\\\"+chr(i+65+1)+\"\\\\0.jpg\")])\n",
    "        if chr(i+65+1)==chr(prediction+65+1):\n",
    "            print(chr(prediction+65+1))\n",
    "    else:\n",
    "        prediction = model.predict_classes([prepare(\"test_processed\\\\\"+chr(i+65)+\"\\\\0.jpg\")])\n",
    "        if chr(i+65)==chr(prediction+65):\n",
    "            print(chr(prediction+65))"
   ]
  }
 ],
 "metadata": {
  "kernelspec": {
   "display_name": "Python 3",
   "language": "python",
   "name": "python3"
  },
  "language_info": {
   "codemirror_mode": {
    "name": "ipython",
    "version": 3
   },
   "file_extension": ".py",
   "mimetype": "text/x-python",
   "name": "python",
   "nbconvert_exporter": "python",
   "pygments_lexer": "ipython3",
   "version": "3.7.9"
  }
 },
 "nbformat": 4,
 "nbformat_minor": 4
}
